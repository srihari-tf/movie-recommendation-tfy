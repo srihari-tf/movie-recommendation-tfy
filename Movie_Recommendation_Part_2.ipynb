{
  "nbformat": 4,
  "nbformat_minor": 0,
  "metadata": {
    "colab": {
      "provenance": [],
      "collapsed_sections": []
    },
    "kernelspec": {
      "name": "python3",
      "display_name": "Python 3"
    },
    "language_info": {
      "name": "python"
    }
  },
  "cells": [
    {
      "cell_type": "code",
      "execution_count": 1,
      "metadata": {
        "colab": {
          "base_uri": "https://localhost:8080/"
        },
        "id": "0kRrXQMADC63",
        "outputId": "f2dc3920-6431-4535-9646-b73dd425d940"
      },
      "outputs": [
        {
          "output_type": "stream",
          "name": "stdout",
          "text": [
            "\u001b[K     |████████████████████████████████| 126 kB 4.1 MB/s \n",
            "\u001b[K     |████████████████████████████████| 1.2 MB 38.3 MB/s \n",
            "\u001b[K     |████████████████████████████████| 3.4 MB 39.6 MB/s \n",
            "\u001b[K     |████████████████████████████████| 281 kB 68.4 MB/s \n",
            "\u001b[K     |████████████████████████████████| 2.1 MB 36.3 MB/s \n",
            "\u001b[K     |████████████████████████████████| 181 kB 57.6 MB/s \n",
            "\u001b[K     |████████████████████████████████| 132 kB 41.3 MB/s \n",
            "\u001b[K     |████████████████████████████████| 77 kB 5.4 MB/s \n",
            "\u001b[K     |████████████████████████████████| 79 kB 6.9 MB/s \n",
            "\u001b[K     |████████████████████████████████| 9.1 MB 33.3 MB/s \n",
            "\u001b[K     |████████████████████████████████| 140 kB 37.9 MB/s \n",
            "\u001b[K     |████████████████████████████████| 59 kB 5.6 MB/s \n",
            "\u001b[K     |████████████████████████████████| 1.6 MB 54.4 MB/s \n",
            "\u001b[K     |████████████████████████████████| 63 kB 1.8 MB/s \n",
            "\u001b[K     |████████████████████████████████| 127 kB 53.5 MB/s \n",
            "\u001b[K     |████████████████████████████████| 410 kB 54.6 MB/s \n",
            "\u001b[K     |████████████████████████████████| 183 kB 69.8 MB/s \n",
            "\u001b[?25h  Building wheel for databricks-cli (setup.py) ... \u001b[?25l\u001b[?25hdone\n",
            "  Building wheel for thrift (setup.py) ... \u001b[?25l\u001b[?25hdone\n",
            "\u001b[K     |████████████████████████████████| 90 kB 3.6 MB/s \n",
            "\u001b[K     |████████████████████████████████| 235 kB 26.7 MB/s \n",
            "\u001b[K     |████████████████████████████████| 96 kB 5.0 MB/s \n",
            "\u001b[K     |████████████████████████████████| 78 kB 6.9 MB/s \n",
            "\u001b[K     |████████████████████████████████| 59 kB 6.1 MB/s \n",
            "\u001b[K     |████████████████████████████████| 54 kB 571 kB/s \n",
            "\u001b[K     |████████████████████████████████| 57 kB 4.5 MB/s \n",
            "\u001b[K     |████████████████████████████████| 1.1 MB 64.7 MB/s \n",
            "\u001b[K     |████████████████████████████████| 62 kB 1.3 MB/s \n",
            "\u001b[K     |████████████████████████████████| 56 kB 4.7 MB/s \n",
            "\u001b[K     |████████████████████████████████| 56 kB 4.3 MB/s \n",
            "\u001b[?25h  Installing build dependencies ... \u001b[?25l\u001b[?25hdone\n",
            "  Getting requirements to build wheel ... \u001b[?25l\u001b[?25hdone\n",
            "    Preparing wheel metadata ... \u001b[?25l\u001b[?25hdone\n",
            "\u001b[K     |████████████████████████████████| 63 kB 1.9 MB/s \n",
            "\u001b[K     |████████████████████████████████| 80 kB 8.7 MB/s \n",
            "\u001b[K     |████████████████████████████████| 52 kB 1.3 MB/s \n",
            "\u001b[K     |████████████████████████████████| 55 kB 2.8 MB/s \n",
            "\u001b[K     |████████████████████████████████| 51 kB 6.9 MB/s \n",
            "\u001b[K     |████████████████████████████████| 58 kB 5.3 MB/s \n",
            "\u001b[?25h  Building wheel for gitignorefile (PEP 517) ... \u001b[?25l\u001b[?25hdone\n",
            "\u001b[31mERROR: pip's dependency resolver does not currently take into account all the packages that are installed. This behaviour is the source of the following dependency conflicts.\n",
            "ipython 7.9.0 requires jedi>=0.10, which is not installed.\n",
            "thinc 8.1.0 requires typing-extensions<4.2.0,>=3.7.4.1; python_version < \"3.8\", but you have typing-extensions 4.3.0 which is incompatible.\n",
            "spacy 3.4.1 requires typing-extensions<4.2.0,>=3.7.4; python_version < \"3.8\", but you have typing-extensions 4.3.0 which is incompatible.\n",
            "flask 1.1.4 requires click<8.0,>=5.1, but you have click 8.1.3 which is incompatible.\u001b[0m\n"
          ]
        }
      ],
      "source": [
        "!pip install -U --quiet mlfoundry\n",
        "!pip install -U --quiet servicefoundry"
      ]
    },
    {
      "cell_type": "code",
      "source": [
        "!sfy login"
      ],
      "metadata": {
        "colab": {
          "base_uri": "https://localhost:8080/"
        },
        "id": "wwZ_CsvRDSFb",
        "outputId": "30f601eb-5599-4ebf-b42c-09c719296458"
      },
      "execution_count": 8,
      "outputs": [
        {
          "output_type": "stream",
          "name": "stdout",
          "text": [
            "\u001b[33mYou are logged in as \u001b[0m\u001b[33m'srihari'\u001b[0m\u001b[33m with email \u001b[0m\u001b[33m'srihari@truefoundry.com'\u001b[0m\n",
            "\n"
          ]
        }
      ]
    },
    {
      "cell_type": "markdown",
      "source": [
        "## Building a webapp using our models"
      ],
      "metadata": {
        "id": "KVVEIkL_SqJ6"
      }
    },
    {
      "cell_type": "code",
      "source": [
        "%%writefile webapp.py\n",
        "\n",
        "import streamlit as st\n",
        "import mlfoundry\n",
        "import pandas as pd\n",
        "\n",
        "from scipy.sparse import coo_matrix\n",
        "\n",
        "@st.cache(allow_output_mutation=True)\n",
        "def load_models_and_dfs():\n",
        "  client = mlfoundry.get_client()\n",
        "  # REPLACE THIS WITH YOUR RUN FQN\n",
        "  run = client.get_run('truefoundry/srihari/movie-recommendation/burgundy-emu')\n",
        "\n",
        "  # REPLACE THIS WITH YOUR MODEL FQN\n",
        "  model = client.get_model(\"model:truefoundry/srihari/movie-recommendation/reco-implicit:1\").load()\n",
        "\n",
        "\n",
        "  movies_local_path = run.download_artifact('movies_metadata.csv')\n",
        "  ratings_local_path = run.download_artifact('ratings_small.csv')\n",
        "\n",
        "  movie_meta_df = pd.read_csv(movies_local_path)\n",
        "  ratings_df = pd.read_csv(ratings_local_path)\n",
        "\n",
        "  movie_meta_df = movie_meta_df[movie_meta_df['id'].isin(ratings_df['movieId'].astype('string'))]\n",
        "  \n",
        "  ratings_df['movieId_cat'] = ratings_df['movieId'].astype(\"category\")\n",
        "  ratings_df['userId_cat'] = ratings_df['userId'].astype(\"category\")\n",
        "\n",
        "  ratings = ratings_df['rating']\n",
        "  rows = ratings_df['userId_cat'].cat.codes\n",
        "  cols = ratings_df['movieId_cat'].cat.codes\n",
        "\n",
        "  sparse_matrix = coo_matrix((ratings, (rows, cols)))\n",
        "  return model, sparse_matrix, movie_meta_df, ratings_df\n",
        "\n",
        "model, sparse_matrix, movie_meta_df, ratings_df = load_models_and_dfs()\n",
        "\n",
        "@st.cache(allow_output_mutation=True)\n",
        "def get_movie_id_from_cat_code(cat_code):\n",
        "  return ratings_df['movieId_cat'].cat.categories[cat_code]\n",
        "\n",
        "@st.cache(allow_output_mutation=True)\n",
        "def get_user_id_from_cat_code(cat_code):\n",
        "  return ratings_df['userId_cat'].cat.categories[cat_code]\n",
        "\n",
        "@st.cache(allow_output_mutation=True)\n",
        "def get_cat_code_from_user_id(user_id):\n",
        "  return ratings_df['userId_cat'].cat.categories.get_loc(user_id)\n",
        "\n",
        "@st.cache(allow_output_mutation=True)\n",
        "def get_cat_code_from_movie_id(movie_id):\n",
        "  return ratings_df['movieId_cat'].cat.categories.get_loc(movie_id)\n",
        "\n",
        "@st.cache(allow_output_mutation=True)\n",
        "def search_movie(name):\n",
        "  return (movie_meta_df.loc[movie_meta_df['original_title'].str.contains(name, case=False)][['original_title', 'id']]).to_dict('records')\n",
        "\n",
        "\n",
        "def get_similar_movies(movie_name):\n",
        "  search_result =search_movie(movie_name)\n",
        "  if len(search_result) > 0:\n",
        "    movie_id = int(search_result[0]['id'])\n",
        "    movie_name = search_result[0]['original_title']\n",
        "  else:\n",
        "    return []\n",
        "  movie_cat_code = get_cat_code_from_movie_id(movie_id)\n",
        "  return [get_movie_id_from_cat_code(cat_code) for cat_code in model.similar_items(movie_cat_code)[0]]\n",
        "\n",
        "def get_recommendation_for_user(user_id):\n",
        "  user_cat_code = get_cat_code_from_user_id(user_id)\n",
        "  return [get_movie_id_from_cat_code(cat_code) for cat_code in model.recommend(user_cat_code, sparse_matrix.tocsr().getrow(user_cat_code))[0]]\n",
        "  \n",
        "def get_movie_names_for_movie_ids(movie_ids):\n",
        "    return list(movie_meta_df.loc[movie_meta_df['id'].isin([str(id) for id in movie_ids])].original_title)\n",
        "\n",
        "tab1, tab2 = st.tabs([\"Similar Movies\", \"Recommend for User\"])\n",
        "\n",
        "with tab1:\n",
        "  movie_name = st.selectbox('Movie title', list(movie_meta_df['original_title'].head(50)))\n",
        "  st.write('Similar Movies')\n",
        "  for movie_id in get_movie_names_for_movie_ids(get_similar_movies(movie_name)):\n",
        "      st.markdown(\"- \" + movie_id)\n",
        "\n",
        "\n",
        "with tab2:\n",
        "  user_id = st.selectbox('Enter User Id', list(ratings_df['userId'].unique()))\n",
        "  st.write('Recommendations for user')\n",
        "  for movie_id in get_movie_names_for_movie_ids(get_recommendation_for_user(user_id)):\n",
        "      st.markdown(\"- \" + movie_id)"
      ],
      "metadata": {
        "colab": {
          "base_uri": "https://localhost:8080/"
        },
        "id": "GPgOF_cXD_KB",
        "outputId": "230824bc-ae60-4f9f-9ec0-a7c08c26a526"
      },
      "execution_count": 18,
      "outputs": [
        {
          "output_type": "stream",
          "name": "stdout",
          "text": [
            "Overwriting webapp.py\n"
          ]
        }
      ]
    },
    {
      "cell_type": "code",
      "source": [
        "%%writefile requirements.txt\n",
        "streamlit\n",
        "implicit\n",
        "scipy\n",
        "pandas\n",
        "mlfoundry"
      ],
      "metadata": {
        "colab": {
          "base_uri": "https://localhost:8080/"
        },
        "id": "MFk07vAlGGfg",
        "outputId": "9c8b2469-0f36-4118-9968-02367ea43bb3"
      },
      "execution_count": 12,
      "outputs": [
        {
          "output_type": "stream",
          "name": "stdout",
          "text": [
            "Overwriting requirements.txt\n"
          ]
        }
      ]
    },
    {
      "cell_type": "code",
      "source": [
        "%%writefile .sfyignore\n",
        "sample_data/\n",
        ".config/"
      ],
      "metadata": {
        "colab": {
          "base_uri": "https://localhost:8080/"
        },
        "id": "EOJWsbZPKCCM",
        "outputId": "fc5168cd-40a3-4e95-b302-90b28157c585"
      },
      "execution_count": 13,
      "outputs": [
        {
          "output_type": "stream",
          "name": "stdout",
          "text": [
            "Overwriting .sfyignore\n"
          ]
        }
      ]
    },
    {
      "cell_type": "code",
      "source": [
        "import logging\n",
        "\n",
        "from servicefoundry import Build, Service, PythonBuild, Resources\n",
        "\n",
        "logging.basicConfig(level=logging.INFO)\n",
        "\n",
        "image = Build(\n",
        "    build_spec=PythonBuild(\n",
        "        command=\"streamlit run webapp.py --server.port 8080\",\n",
        "        requirements_path=\"requirements.txt\",\n",
        "    ),\n",
        ")\n",
        "\n",
        "# REPLACE THIS WITH YOUR SECRET\n",
        "env = {\n",
        "    \"TFY_API_KEY\": \"tfy-secret://srihari:tfy-secrets:TFY_API_KEY\"\n",
        "}\n",
        "\n",
        "service = Service(\n",
        "    name=\"streamlit-app\",\n",
        "    image=image,\n",
        "    ports=[{\"port\": 8080}],\n",
        "    env=env,\n",
        "    resources=Resources(cpu_request='0.5', cpu_limit='0.5', memory_limit='1000', memory_request='1000' )\n",
        ")\n",
        "\n",
        "deployment = service.deploy(workspace_fqn=\"v1:tfy-cluster-euwe1:ut-demo-ws\")"
      ],
      "metadata": {
        "id": "p91Ja89nGM8-"
      },
      "execution_count": 19,
      "outputs": []
    },
    {
      "cell_type": "code",
      "source": [
        "%%writefile main.py\n",
        "\n",
        "from fastapi import FastAPI\n",
        "\n",
        "import mlfoundry\n",
        "import pandas as pd\n",
        "\n",
        "from scipy.sparse import coo_matrix\n",
        "\n",
        "def load_models_and_dfs():\n",
        "  client = mlfoundry.get_client()\n",
        "  # REPLACE THIS WITH YOUR RUN FQN\n",
        "  run = client.get_run('truefoundry/srihari/movie-recommendation/burgundy-emu')\n",
        "\n",
        "  # REPLACE THIS WITH YOUR MODEL FQN\n",
        "  model = client.get_model(\"model:truefoundry/srihari/movie-recommendation/reco-implicit:1\").load()\n",
        "\n",
        "\n",
        "  movies_local_path = run.download_artifact('movies_metadata.csv')\n",
        "  ratings_local_path = run.download_artifact('ratings_small.csv')\n",
        "\n",
        "  movie_meta_df = pd.read_csv(movies_local_path)\n",
        "  ratings_df = pd.read_csv(ratings_local_path)\n",
        "\n",
        "  movie_meta_df = movie_meta_df[movie_meta_df['id'].isin(ratings_df['movieId'].astype('string'))]\n",
        "  \n",
        "  ratings_df['movieId_cat'] = ratings_df['movieId'].astype(\"category\")\n",
        "  ratings_df['userId_cat'] = ratings_df['userId'].astype(\"category\")\n",
        "\n",
        "  ratings = ratings_df['rating']\n",
        "  rows = ratings_df['userId_cat'].cat.codes\n",
        "  cols = ratings_df['movieId_cat'].cat.codes\n",
        "\n",
        "  sparse_matrix = coo_matrix((ratings, (rows, cols)))\n",
        "  return model, sparse_matrix, movie_meta_df, ratings_df\n",
        "\n",
        "model, sparse_matrix, movie_meta_df, ratings_df = load_models_and_dfs()\n",
        "\n",
        "def get_movie_id_from_cat_code(cat_code):\n",
        "  return ratings_df['movieId_cat'].cat.categories[cat_code]\n",
        "\n",
        "def get_user_id_from_cat_code(cat_code):\n",
        "  return ratings_df['userId_cat'].cat.categories[cat_code]\n",
        "\n",
        "def get_cat_code_from_user_id(user_id):\n",
        "  return ratings_df['userId_cat'].cat.categories.get_loc(user_id)\n",
        "\n",
        "def get_cat_code_from_movie_id(movie_id):\n",
        "  return ratings_df['movieId_cat'].cat.categories.get_loc(movie_id)\n",
        "\n",
        "def search_movie(name):\n",
        "  return (movie_meta_df.loc[movie_meta_df['original_title'].str.contains(name, case=False)][['original_title', 'id']]).to_dict('records')\n",
        "\n",
        "\n",
        "def get_similar_movies(movie_name):\n",
        "  search_result =search_movie(movie_name)\n",
        "  if len(search_result) > 0:\n",
        "    movie_id = int(search_result[0]['id'])\n",
        "    movie_name = search_result[0]['original_title']\n",
        "  else:\n",
        "    return []\n",
        "  movie_cat_code = get_cat_code_from_movie_id(movie_id)\n",
        "  return [get_movie_id_from_cat_code(cat_code) for cat_code in model.similar_items(movie_cat_code)[0]]\n",
        "\n",
        "def get_recommendation_for_user(user_id):\n",
        "  user_cat_code = get_cat_code_from_user_id(user_id)\n",
        "  return [get_movie_id_from_cat_code(cat_code) for cat_code in model.recommend(user_cat_code, sparse_matrix.tocsr().getrow(user_cat_code))[0]]\n",
        "  \n",
        "def get_movie_names_for_movie_ids(movie_ids):\n",
        "    return list(movie_meta_df.loc[movie_meta_df['id'].isin([str(id) for id in movie_ids])].original_title)\n",
        "\n",
        "app = FastAPI()\n",
        "\n",
        "@app.get(\"/recommend\")\n",
        "def predict(user_id: int):\n",
        "  return get_movie_names_for_movie_ids(get_recommendation_for_user(user_id))"
      ],
      "metadata": {
        "colab": {
          "base_uri": "https://localhost:8080/"
        },
        "id": "1_P0ihDWL1YB",
        "outputId": "cd32d664-2cbb-4ef4-9177-cef718168cfe"
      },
      "execution_count": 24,
      "outputs": [
        {
          "output_type": "stream",
          "name": "stdout",
          "text": [
            "Overwriting main.py\n"
          ]
        }
      ]
    },
    {
      "cell_type": "code",
      "source": [
        "%%writefile requirements.txt\n",
        "fastapi\n",
        "uvicorn\n",
        "implicit\n",
        "scipy\n",
        "pandas\n",
        "mlfoundry"
      ],
      "metadata": {
        "colab": {
          "base_uri": "https://localhost:8080/"
        },
        "id": "XNccmWPBcTmu",
        "outputId": "4531b94c-6d75-4547-f0e2-e1a1cb63ceaf"
      },
      "execution_count": 22,
      "outputs": [
        {
          "output_type": "stream",
          "name": "stdout",
          "text": [
            "Overwriting requirements.txt\n"
          ]
        }
      ]
    },
    {
      "cell_type": "code",
      "source": [
        "import logging\n",
        "\n",
        "from servicefoundry import Build, Service, PythonBuild, Resources\n",
        "\n",
        "logging.basicConfig(level=logging.INFO)\n",
        "\n",
        "image = Build(\n",
        "    build_spec=PythonBuild(\n",
        "        command=\"uvicorn main:app --port 8080 --host 0.0.0.0\",\n",
        "        requirements_path=\"requirements.txt\",\n",
        "    ),\n",
        ")\n",
        "\n",
        "# REPLACE THIS WITH YOUR SECRET\n",
        "env = {\n",
        "    \"TFY_API_KEY\": \"tfy-secret://srihari:tfy-secrets:TFY_API_KEY\"\n",
        "}\n",
        "\n",
        "service = Service(\n",
        "    name=\"fastapi-svc\",\n",
        "    image=image,\n",
        "    ports=[{\"port\": 8080}],\n",
        "    env=env,\n",
        "    resources=Resources(cpu_request='0.5', cpu_limit='0.5', memory_limit='1000', memory_request='1000' )\n",
        ")\n",
        "\n",
        "deployment = service.deploy(workspace_fqn=\"v1:tfy-cluster-euwe1:ut-demo-ws\")"
      ],
      "metadata": {
        "id": "uimejYHQcjoP"
      },
      "execution_count": 25,
      "outputs": []
    }
  ]
}