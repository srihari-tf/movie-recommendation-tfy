{
  "cells": [
    {
      "cell_type": "markdown",
      "metadata": {},
      "source": [
        "[![Open In Colab](https://colab.research.google.com/assets/colab-badge.svg)](https://colab.research.google.com/github/srihari-tf/movie-recommendation-tfy/blob/main/Movie_Recommendation_Part_2.ipynb)\n"
      ]
    },
    {
      "cell_type": "code",
      "execution_count": null,
      "metadata": {
        "colab": {
          "base_uri": "https://localhost:8080/"
        },
        "id": "0kRrXQMADC63",
        "outputId": "f2dc3920-6431-4535-9646-b73dd425d940"
      },
      "outputs": [],
      "source": [
        "!pip install -U --quiet mlfoundry\n",
        "!pip install -U --quiet servicefoundry"
      ]
    },
    {
      "cell_type": "code",
      "execution_count": null,
      "metadata": {
        "colab": {
          "base_uri": "https://localhost:8080/"
        },
        "id": "wwZ_CsvRDSFb",
        "outputId": "30f601eb-5599-4ebf-b42c-09c719296458"
      },
      "outputs": [],
      "source": [
        "!sfy login"
      ]
    },
    {
      "cell_type": "markdown",
      "metadata": {
        "id": "KVVEIkL_SqJ6"
      },
      "source": [
        "## Building a webapp using our models"
      ]
    },
    {
      "cell_type": "code",
      "execution_count": null,
      "metadata": {
        "colab": {
          "base_uri": "https://localhost:8080/"
        },
        "id": "GPgOF_cXD_KB",
        "outputId": "230824bc-ae60-4f9f-9ec0-a7c08c26a526"
      },
      "outputs": [],
      "source": [
        "%%writefile webapp.py\n",
        "\n",
        "import streamlit as st\n",
        "import mlfoundry\n",
        "import pandas as pd\n",
        "\n",
        "from scipy.sparse import coo_matrix\n",
        "\n",
        "@st.cache(allow_output_mutation=True)\n",
        "def load_models_and_dfs():\n",
        "  client = mlfoundry.get_client()\n",
        "  # REPLACE THIS WITH YOUR RUN FQN\n",
        "  run = client.get_run('truefoundry/srihari/movie-recommendation/burgundy-emu')\n",
        "\n",
        "  # REPLACE THIS WITH YOUR MODEL FQN\n",
        "  model = client.get_model(\"model:truefoundry/srihari/movie-recommendation/reco-implicit:1\").load()\n",
        "\n",
        "\n",
        "  movies_local_path = run.download_artifact('movies_metadata.csv')\n",
        "  ratings_local_path = run.download_artifact('ratings_small.csv')\n",
        "\n",
        "  movie_meta_df = pd.read_csv(movies_local_path)\n",
        "  ratings_df = pd.read_csv(ratings_local_path)\n",
        "\n",
        "  movie_meta_df = movie_meta_df[movie_meta_df['id'].isin(ratings_df['movieId'].astype('string'))]\n",
        "  \n",
        "  ratings_df['movieId_cat'] = ratings_df['movieId'].astype(\"category\")\n",
        "  ratings_df['userId_cat'] = ratings_df['userId'].astype(\"category\")\n",
        "\n",
        "  ratings = ratings_df['rating']\n",
        "  rows = ratings_df['userId_cat'].cat.codes\n",
        "  cols = ratings_df['movieId_cat'].cat.codes\n",
        "\n",
        "  sparse_matrix = coo_matrix((ratings, (rows, cols)))\n",
        "  return model, sparse_matrix, movie_meta_df, ratings_df\n",
        "\n",
        "model, sparse_matrix, movie_meta_df, ratings_df = load_models_and_dfs()\n",
        "\n",
        "@st.cache(allow_output_mutation=True)\n",
        "def get_movie_id_from_cat_code(cat_code):\n",
        "  return ratings_df['movieId_cat'].cat.categories[cat_code]\n",
        "\n",
        "@st.cache(allow_output_mutation=True)\n",
        "def get_user_id_from_cat_code(cat_code):\n",
        "  return ratings_df['userId_cat'].cat.categories[cat_code]\n",
        "\n",
        "@st.cache(allow_output_mutation=True)\n",
        "def get_cat_code_from_user_id(user_id):\n",
        "  return ratings_df['userId_cat'].cat.categories.get_loc(user_id)\n",
        "\n",
        "@st.cache(allow_output_mutation=True)\n",
        "def get_cat_code_from_movie_id(movie_id):\n",
        "  return ratings_df['movieId_cat'].cat.categories.get_loc(movie_id)\n",
        "\n",
        "@st.cache(allow_output_mutation=True)\n",
        "def search_movie(name):\n",
        "  return (movie_meta_df.loc[movie_meta_df['original_title'].str.contains(name, case=False)][['original_title', 'id']]).to_dict('records')\n",
        "\n",
        "\n",
        "def get_similar_movies(movie_name):\n",
        "  search_result =search_movie(movie_name)\n",
        "  if len(search_result) > 0:\n",
        "    movie_id = int(search_result[0]['id'])\n",
        "    movie_name = search_result[0]['original_title']\n",
        "  else:\n",
        "    return []\n",
        "  movie_cat_code = get_cat_code_from_movie_id(movie_id)\n",
        "  return [get_movie_id_from_cat_code(cat_code) for cat_code in model.similar_items(movie_cat_code)[0]]\n",
        "\n",
        "def get_recommendation_for_user(user_id):\n",
        "  user_cat_code = get_cat_code_from_user_id(user_id)\n",
        "  return [get_movie_id_from_cat_code(cat_code) for cat_code in model.recommend(user_cat_code, sparse_matrix.tocsr().getrow(user_cat_code))[0]]\n",
        "  \n",
        "def get_movie_names_for_movie_ids(movie_ids):\n",
        "    return list(movie_meta_df.loc[movie_meta_df['id'].isin([str(id) for id in movie_ids])].original_title)\n",
        "\n",
        "tab1, tab2 = st.tabs([\"Similar Movies\", \"Recommend for User\"])\n",
        "\n",
        "with tab1:\n",
        "  movie_name = st.selectbox('Movie title', list(movie_meta_df['original_title'].head(50)))\n",
        "  st.write('Similar Movies')\n",
        "  for movie_id in get_movie_names_for_movie_ids(get_similar_movies(movie_name)):\n",
        "      st.markdown(\"- \" + movie_id)\n",
        "\n",
        "\n",
        "with tab2:\n",
        "  user_id = st.selectbox('Enter User Id', list(ratings_df['userId'].unique()))\n",
        "  st.write('Recommendations for user')\n",
        "  for movie_id in get_movie_names_for_movie_ids(get_recommendation_for_user(user_id)):\n",
        "      st.markdown(\"- \" + movie_id)"
      ]
    },
    {
      "cell_type": "code",
      "execution_count": null,
      "metadata": {
        "colab": {
          "base_uri": "https://localhost:8080/"
        },
        "id": "MFk07vAlGGfg",
        "outputId": "9c8b2469-0f36-4118-9968-02367ea43bb3"
      },
      "outputs": [],
      "source": [
        "%%writefile requirements.txt\n",
        "streamlit\n",
        "implicit\n",
        "scipy\n",
        "pandas\n",
        "mlfoundry"
      ]
    },
    {
      "cell_type": "code",
      "execution_count": null,
      "metadata": {
        "colab": {
          "base_uri": "https://localhost:8080/"
        },
        "id": "EOJWsbZPKCCM",
        "outputId": "fc5168cd-40a3-4e95-b302-90b28157c585"
      },
      "outputs": [],
      "source": [
        "%%writefile .sfyignore\n",
        "sample_data/\n",
        ".config/"
      ]
    },
    {
      "cell_type": "code",
      "execution_count": null,
      "metadata": {
        "id": "p91Ja89nGM8-"
      },
      "outputs": [],
      "source": [
        "import logging\n",
        "\n",
        "from servicefoundry import Build, Service, PythonBuild, Resources\n",
        "\n",
        "logging.basicConfig(level=logging.INFO)\n",
        "\n",
        "image = Build(\n",
        "    build_spec=PythonBuild(\n",
        "        command=\"streamlit run webapp.py --server.port 8080\",\n",
        "        requirements_path=\"requirements.txt\",\n",
        "    ),\n",
        ")\n",
        "\n",
        "# REPLACE THIS WITH YOUR SECRET\n",
        "env = {\n",
        "    \"TFY_API_KEY\": \"tfy-secret://srihari:tfy-secrets:TFY_API_KEY\"\n",
        "}\n",
        "\n",
        "service = Service(\n",
        "    name=\"streamlit-app\",\n",
        "    image=image,\n",
        "    ports=[{\"port\": 8080}],\n",
        "    env=env,\n",
        "    resources=Resources(cpu_request='0.5', cpu_limit='0.5', memory_limit='1000', memory_request='1000' )\n",
        ")\n",
        "\n",
        "# REPLACE THIS WITH YOUR WORKSPACE FQN\n",
        "deployment = service.deploy(workspace_fqn=\"v1:tfy-cluster-euwe1:ut-demo-ws\")"
      ]
    },
    {
      "cell_type": "code",
      "execution_count": null,
      "metadata": {
        "colab": {
          "base_uri": "https://localhost:8080/"
        },
        "id": "1_P0ihDWL1YB",
        "outputId": "cd32d664-2cbb-4ef4-9177-cef718168cfe"
      },
      "outputs": [],
      "source": [
        "%%writefile main.py\n",
        "\n",
        "from fastapi import FastAPI\n",
        "\n",
        "import mlfoundry\n",
        "import pandas as pd\n",
        "\n",
        "from scipy.sparse import coo_matrix\n",
        "\n",
        "def load_models_and_dfs():\n",
        "  client = mlfoundry.get_client()\n",
        "  # REPLACE THIS WITH YOUR RUN FQN\n",
        "  run = client.get_run('truefoundry/srihari/movie-recommendation/burgundy-emu')\n",
        "\n",
        "  # REPLACE THIS WITH YOUR MODEL FQN\n",
        "  model = client.get_model(\"model:truefoundry/srihari/movie-recommendation/reco-implicit:1\").load()\n",
        "\n",
        "\n",
        "  movies_local_path = run.download_artifact('movies_metadata.csv')\n",
        "  ratings_local_path = run.download_artifact('ratings_small.csv')\n",
        "\n",
        "  movie_meta_df = pd.read_csv(movies_local_path)\n",
        "  ratings_df = pd.read_csv(ratings_local_path)\n",
        "\n",
        "  movie_meta_df = movie_meta_df[movie_meta_df['id'].isin(ratings_df['movieId'].astype('string'))]\n",
        "  \n",
        "  ratings_df['movieId_cat'] = ratings_df['movieId'].astype(\"category\")\n",
        "  ratings_df['userId_cat'] = ratings_df['userId'].astype(\"category\")\n",
        "\n",
        "  ratings = ratings_df['rating']\n",
        "  rows = ratings_df['userId_cat'].cat.codes\n",
        "  cols = ratings_df['movieId_cat'].cat.codes\n",
        "\n",
        "  sparse_matrix = coo_matrix((ratings, (rows, cols)))\n",
        "  return model, sparse_matrix, movie_meta_df, ratings_df\n",
        "\n",
        "model, sparse_matrix, movie_meta_df, ratings_df = load_models_and_dfs()\n",
        "\n",
        "def get_movie_id_from_cat_code(cat_code):\n",
        "  return ratings_df['movieId_cat'].cat.categories[cat_code]\n",
        "\n",
        "def get_user_id_from_cat_code(cat_code):\n",
        "  return ratings_df['userId_cat'].cat.categories[cat_code]\n",
        "\n",
        "def get_cat_code_from_user_id(user_id):\n",
        "  return ratings_df['userId_cat'].cat.categories.get_loc(user_id)\n",
        "\n",
        "def get_cat_code_from_movie_id(movie_id):\n",
        "  return ratings_df['movieId_cat'].cat.categories.get_loc(movie_id)\n",
        "\n",
        "def search_movie(name):\n",
        "  return (movie_meta_df.loc[movie_meta_df['original_title'].str.contains(name, case=False)][['original_title', 'id']]).to_dict('records')\n",
        "\n",
        "\n",
        "def get_similar_movies(movie_name):\n",
        "  search_result =search_movie(movie_name)\n",
        "  if len(search_result) > 0:\n",
        "    movie_id = int(search_result[0]['id'])\n",
        "    movie_name = search_result[0]['original_title']\n",
        "  else:\n",
        "    return []\n",
        "  movie_cat_code = get_cat_code_from_movie_id(movie_id)\n",
        "  return [get_movie_id_from_cat_code(cat_code) for cat_code in model.similar_items(movie_cat_code)[0]]\n",
        "\n",
        "def get_recommendation_for_user(user_id):\n",
        "  user_cat_code = get_cat_code_from_user_id(user_id)\n",
        "  return [get_movie_id_from_cat_code(cat_code) for cat_code in model.recommend(user_cat_code, sparse_matrix.tocsr().getrow(user_cat_code))[0]]\n",
        "  \n",
        "def get_movie_names_for_movie_ids(movie_ids):\n",
        "    return list(movie_meta_df.loc[movie_meta_df['id'].isin([str(id) for id in movie_ids])].original_title)\n",
        "\n",
        "app = FastAPI()\n",
        "\n",
        "@app.get(\"/recommend\")\n",
        "def predict(user_id: int):\n",
        "  return get_movie_names_for_movie_ids(get_recommendation_for_user(user_id))"
      ]
    },
    {
      "cell_type": "code",
      "execution_count": null,
      "metadata": {
        "colab": {
          "base_uri": "https://localhost:8080/"
        },
        "id": "XNccmWPBcTmu",
        "outputId": "4531b94c-6d75-4547-f0e2-e1a1cb63ceaf"
      },
      "outputs": [],
      "source": [
        "%%writefile requirements.txt\n",
        "fastapi\n",
        "uvicorn\n",
        "implicit\n",
        "scipy\n",
        "pandas\n",
        "mlfoundry"
      ]
    },
    {
      "cell_type": "code",
      "execution_count": null,
      "metadata": {
        "id": "uimejYHQcjoP"
      },
      "outputs": [],
      "source": [
        "import logging\n",
        "\n",
        "from servicefoundry import Build, Service, PythonBuild, Resources\n",
        "\n",
        "logging.basicConfig(level=logging.INFO)\n",
        "\n",
        "image = Build(\n",
        "    build_spec=PythonBuild(\n",
        "        command=\"uvicorn main:app --port 8080 --host 0.0.0.0\",\n",
        "        requirements_path=\"requirements.txt\",\n",
        "    ),\n",
        ")\n",
        "\n",
        "# REPLACE THIS WITH YOUR SECRET\n",
        "env = {\n",
        "    \"TFY_API_KEY\": \"tfy-secret://srihari:tfy-secrets:TFY_API_KEY\"\n",
        "}\n",
        "\n",
        "service = Service(\n",
        "    name=\"fastapi-svc\",\n",
        "    image=image,\n",
        "    ports=[{\"port\": 8080}],\n",
        "    env=env,\n",
        "    resources=Resources(cpu_request='0.5', cpu_limit='0.5', memory_limit='1000', memory_request='1000' )\n",
        ")\n",
        "\n",
        "# REPLACE THIS WITH YOUR WORKSPACE FQN\n",
        "deployment = service.deploy(workspace_fqn=\"v1:tfy-cluster-euwe1:ut-demo-ws\")"
      ]
    }
  ],
  "metadata": {
    "colab": {
      "collapsed_sections": [],
      "provenance": []
    },
    "kernelspec": {
      "display_name": "Python 3.7.0 ('venv')",
      "language": "python",
      "name": "python3"
    },
    "language_info": {
      "name": "python",
      "version": "3.7.0"
    },
    "vscode": {
      "interpreter": {
        "hash": "4da2c687172dbc5787f57fefd92f9202761e12795eef0d6c97cfee63663ebb54"
      }
    }
  },
  "nbformat": 4,
  "nbformat_minor": 0
}
